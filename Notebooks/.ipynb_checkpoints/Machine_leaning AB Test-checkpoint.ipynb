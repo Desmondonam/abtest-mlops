{
 "cells": [
  {
   "cell_type": "code",
   "execution_count": null,
   "id": "5944c996",
   "metadata": {},
   "outputs": [],
   "source": [
    "\n",
    "import os\n",
    "import sys\n",
    "sys.path.append(os.path.abspath(os.path.join('../scripts')))\n",
    "import seaborn as sns\n",
    "import matplotlib.pyplot as plt\n",
    "%matplotlib inline\n",
    "\n",
    "import plotly.express as px\n",
    "\n",
    "\n",
    "#Import all Necessary imports \n",
    "import pandas as pd\n",
    "import numpy as np\n",
    "import seaborn as sns\n",
    "from scipy.stats import ttest_ind\n",
    "import scipy\n",
    "from matplotlib import pyplot as plt\n",
    "\n",
    "from sklearn.datasets import make_classification\n",
    "\n",
    "from sklearn.linear_model import LogisticRegression\n",
    "from sklearn.model_selection import train_test_split\n",
    "from sklearn.metrics import confusion_matrix\n",
    "import random\n",
    "import math\n",
    "from sklearn import preprocessing\n",
    "from sklearn.model_selection import train_test_split\n",
    "from sklearn.linear_model import LogisticRegression\n",
    "from sklearn.tree import DecisionTreeClassifier \n",
    "from sklearn import metrics\n",
    "from sklearn.model_selection import KFold\n",
    "from sklearn.tree import export_graphviz\n",
    "from six import StringIO\n",
    "from IPython.display import Image  \n",
    "\n",
    "from sklearn import tree\n",
    "import scipy.stats as stat\n",
    "\n",
    "\n",
    "%matplotlib inline "
   ]
  },
  {
   "cell_type": "code",
   "execution_count": null,
   "id": "2133a2e8",
   "metadata": {},
   "outputs": [],
   "source": [
    "import warnings\n",
    "warnings.filterwarnings('ignore')"
   ]
  },
  {
   "cell_type": "code",
   "execution_count": null,
   "id": "10106309",
   "metadata": {},
   "outputs": [],
   "source": [
    "\n",
    "CSV_PATH = \"C:/Users/DESMOND/abtest-mlops/data2/AdSmartABdata.csv\""
   ]
  },
  {
   "cell_type": "code",
   "execution_count": 18,
   "id": "c3f321b4",
   "metadata": {},
   "outputs": [],
   "source": [
    "#helper = Helper()"
   ]
  },
  {
   "cell_type": "code",
   "execution_count": 19,
   "id": "981d12f6",
   "metadata": {},
   "outputs": [
    {
     "ename": "NameError",
     "evalue": "name 'helper' is not defined",
     "output_type": "error",
     "traceback": [
      "\u001b[1;31m---------------------------------------------------------------------------\u001b[0m",
      "\u001b[1;31mNameError\u001b[0m                                 Traceback (most recent call last)",
      "\u001b[1;32m<ipython-input-19-65f0a36246d6>\u001b[0m in \u001b[0;36m<module>\u001b[1;34m\u001b[0m\n\u001b[0;32m      1\u001b[0m \u001b[1;31m#Let us see the data\u001b[0m\u001b[1;33m\u001b[0m\u001b[1;33m\u001b[0m\u001b[1;33m\u001b[0m\u001b[0m\n\u001b[1;32m----> 2\u001b[1;33m \u001b[0mdf\u001b[0m \u001b[1;33m=\u001b[0m \u001b[0mhelper\u001b[0m\u001b[1;33m.\u001b[0m\u001b[0mread_csv\u001b[0m\u001b[1;33m(\u001b[0m\u001b[0mCSV_PATH\u001b[0m\u001b[1;33m)\u001b[0m\u001b[1;33m\u001b[0m\u001b[1;33m\u001b[0m\u001b[0m\n\u001b[0m\u001b[0;32m      3\u001b[0m \u001b[0mdf\u001b[0m\u001b[1;33m.\u001b[0m\u001b[0mhead\u001b[0m\u001b[1;33m(\u001b[0m\u001b[1;33m)\u001b[0m\u001b[1;33m\u001b[0m\u001b[1;33m\u001b[0m\u001b[0m\n",
      "\u001b[1;31mNameError\u001b[0m: name 'helper' is not defined"
     ]
    }
   ],
   "source": [
    "#Let us see the data\n",
    "df = helper.read_csv(CSV_PATH)\n",
    "df.head()\n"
   ]
  },
  {
   "cell_type": "code",
   "execution_count": 18,
   "id": "89361033",
   "metadata": {},
   "outputs": [],
   "source": [
    "def split_data(test_df):\n",
    "    try:\n",
    "        exposed = test_df[test_df['browser'] == 'exposed']\n",
    "        control = test_df[test_df['experiment'] == 'control']\n",
    "        \n",
    "        return exposed, control\n",
    "    except KeyError as e:\n",
    "        print(\"key experiment is missing\")\n",
    "        return test_df\n",
    "\n",
    "def drop_no_responds(df):\n",
    "    cleaned_df = df.query(\"not (yes == 0 & no == 0)\")\n",
    "    return cleaned_df"
   ]
  },
  {
   "cell_type": "code",
   "execution_count": 19,
   "id": "63b782f9",
   "metadata": {},
   "outputs": [],
   "source": [
    "cleaned_df = drop_no_responds(df)\n",
    "cleaned_df['aware'] = cleaned_df['yes'].map(lambda x: x==1)\n",
    "cleaned_df = cleaned_df.drop(columns = ['yes', 'no', 'auction_id'], axis=1)"
   ]
  },
  {
   "cell_type": "markdown",
   "id": "79cc602c",
   "metadata": {},
   "source": [
    "### data preparation "
   ]
  },
  {
   "cell_type": "code",
   "execution_count": 20,
   "id": "6ff40389",
   "metadata": {},
   "outputs": [],
   "source": [
    "\n",
    "def encode_labels(df):\n",
    "    date_encoder = preprocessing.LabelEncoder()\n",
    "    device_encoder = preprocessing.LabelEncoder()\n",
    "    browser_encoder = preprocessing.LabelEncoder()\n",
    "    experiment_encoder = preprocessing.LabelEncoder()\n",
    "    aware_encoder = preprocessing.LabelEncoder()\n",
    "    \n",
    "    df['date'] = date_encoder.fit_transform(df['date'])\n",
    "    df['device_make'] = device_encoder.fit_transform(df['device_make'])\n",
    "    df['browser'] = browser_encoder.fit_transform(df['browser'])\n",
    "    df['experiment'] = experiment_encoder.fit_transform(cleaned_df['experiment'])\n",
    "    df['aware'] = aware_encoder.fit_transform(df['aware'])\n",
    "    \n",
    "    return df, date_encoder, device_encoder, browser_encoder, experiment_encoder, aware_encoder"
   ]
  },
  {
   "cell_type": "code",
   "execution_count": 21,
   "id": "97ba286f",
   "metadata": {},
   "outputs": [],
   "source": [
    "encoded_df, date_encoder, device_encoder, browser_encoder, experiment_encoder, aware_encoder = encode_labels(cleaned_df)"
   ]
  },
  {
   "cell_type": "markdown",
   "id": "e70ff3e5",
   "metadata": {},
   "source": [
    "### train test split of the data "
   ]
  },
  {
   "cell_type": "code",
   "execution_count": 22,
   "id": "589e5dc4",
   "metadata": {},
   "outputs": [],
   "source": [
    "# feature_cols = [\"experiment\", \"hour\", \"date\", 'device_make', \"platform_os\",  \"browser\"]\n",
    "feature_cols = [\"experiment\", \"hour\", \"date\", 'device_make']\n",
    "\n",
    "X = encoded_df[feature_cols]\n",
    "y = encoded_df[['aware']]\n",
    "\n",
    "test_size = 0.1\n",
    "\n",
    "X_train, X_test, y_train, y_test = train_test_split(X, y, test_size=test_size, random_state=42)"
   ]
  },
  {
   "cell_type": "markdown",
   "id": "c8eaa7ae",
   "metadata": {},
   "source": [
    "### Model Building "
   ]
  },
  {
   "cell_type": "markdown",
   "id": "f0e926c7",
   "metadata": {},
   "source": [
    "##### Decision trees "
   ]
  },
  {
   "cell_type": "code",
   "execution_count": 23,
   "id": "12d904a3",
   "metadata": {},
   "outputs": [],
   "source": [
    "class DecisionTreesModel:\n",
    "    \n",
    "    def __init__(self, X_train, X_test, y_train, y_test, max_depth=5):\n",
    "        \n",
    "        self.X_train = X_train\n",
    "        self.X_test = X_test\n",
    "        self.y_train = y_train\n",
    "        self.y_test = y_test\n",
    "        \n",
    "        self.clf = DecisionTreeClassifier(max_depth=4)\n",
    "        \n",
    "    def train(self, folds=1):\n",
    "        \n",
    "        kf = KFold(n_splits = folds)\n",
    "        \n",
    "        iterator = kf.split(self.X_train)\n",
    "        \n",
    "        for i in range(folds):\n",
    "            train_index, valid_index = next(iterator)\n",
    "            \n",
    "            X_train, y_train = self.X_train.iloc[train_index], self.y_train.iloc[train_index]\n",
    "            X_valid, y_valid = self.X_train.iloc[valid_index], self.y_train.iloc[valid_index]\n",
    "                        \n",
    "            self.clf = self.clf.fit(X_train, y_train)\n",
    "            \n",
    "            vali_pred = self.clf.predict(X_valid)\n",
    "            \n",
    "            accuracy = self.calculate_score(y_valid\n",
    "                                              , vali_pred)\n",
    "            self.__printAccuracy(accuracy, i, label=\"Validation\")\n",
    "\n",
    "            \n",
    "        return self.clf, accuracy\n",
    "    \n",
    "    def test(self, x_test=X_test, y_test=y_test):\n",
    "        \n",
    "        y_pred = self.clf.predict(x_test)\n",
    "        \n",
    "        accuracy = self.calculate_score(y_pred, y_test)\n",
    "        self.__printAccuracy(accuracy, label=\"Test\")\n",
    "        \n",
    "        report = self.report(y_pred, y_test)\n",
    "        matrix = self.confusion_matrix(y_pred, y_test)\n",
    "\n",
    "        \n",
    "        return accuracy, report, matrix\n",
    "    \n",
    "    def __printAccuracy(self, acc, step=1, label=\"\"):\n",
    "        print(f\"step {step}: {label} Accuracy of DecisionTreesModel is: {acc:.3f}\")\n",
    "    \n",
    "    def calculate_score(self, pred, actual):\n",
    "        return metrics.accuracy_score(actual, pred)\n",
    "    \n",
    "    def report(self, pred, actual):\n",
    "        print(\"Test Metrics\")\n",
    "        print(\"================\")\n",
    "        print(metrics.classification_report(pred, actual))\n",
    "        return metrics.classification_report(pred, actual)\n",
    "    \n",
    "    def confusion_matrix(self, pred, actual):\n",
    "        ax=sns.heatmap(pd.DataFrame(metrics.confusion_matrix(pred, actual)))\n",
    "        plt.title('Confusion matrix')\n",
    "        plt.ylabel('Actual')\n",
    "        plt.xlabel('Predicted')\n",
    "        return metrics.confusion_matrix(pred, actual)"
   ]
  },
  {
   "cell_type": "code",
   "execution_count": 24,
   "id": "3ce12320",
   "metadata": {},
   "outputs": [
    {
     "name": "stdout",
     "output_type": "stream",
     "text": [
      "step 0: Validation Accuracy of DecisionTreesModel is: 0.554\n",
      "step 1: Validation Accuracy of DecisionTreesModel is: 0.527\n",
      "step 2: Validation Accuracy of DecisionTreesModel is: 0.554\n",
      "step 3: Validation Accuracy of DecisionTreesModel is: 0.502\n",
      "step 4: Validation Accuracy of DecisionTreesModel is: 0.543\n"
     ]
    }
   ],
   "source": [
    "decisionTreesModel = DecisionTreesModel(X_train, X_test,  y_train, y_test)\n",
    "\n",
    "clf, _ = decisionTreesModel.train(5)"
   ]
  },
  {
   "cell_type": "code",
   "execution_count": 25,
   "id": "074d91cf",
   "metadata": {},
   "outputs": [
    {
     "name": "stdout",
     "output_type": "stream",
     "text": [
      "step 1: Test Accuracy of DecisionTreesModel is: 0.568\n",
      "Test Metrics\n",
      "================\n",
      "              precision    recall  f1-score   support\n",
      "\n",
      "           0       0.95      0.55      0.70       113\n",
      "           1       0.15      0.75      0.25        12\n",
      "\n",
      "    accuracy                           0.57       125\n",
      "   macro avg       0.55      0.65      0.47       125\n",
      "weighted avg       0.88      0.57      0.65       125\n",
      "\n"
     ]
    },
    {
     "data": {
      "image/png": "[encoded data removed]",
      "text/plain": [
       "<Figure size 432x288 with 2 Axes>"
      ]
     },
     "metadata": {
      "needs_background": "light"
     },
     "output_type": "display_data"
    }
   ],
   "source": [
    "test_acc, report, confusion_matrix = decisionTreesModel.test()"
   ]
  },
  {
   "cell_type": "code",
   "execution_count": 33,
   "id": "9ce801a5",
   "metadata": {},
   "outputs": [
    {
     "ename": "InvocationException",
     "evalue": "GraphViz's executables not found",
     "output_type": "error",
     "traceback": [
      "\u001b[1;31m---------------------------------------------------------------------------\u001b[0m",
      "\u001b[1;31mInvocationException\u001b[0m                       Traceback (most recent call last)",
      "\u001b[1;32m<ipython-input-33-1970207d3bff>\u001b[0m in \u001b[0;36m<module>\u001b[1;34m\u001b[0m\n\u001b[0;32m     10\u001b[0m \u001b[1;33m\u001b[0m\u001b[0m\n\u001b[0;32m     11\u001b[0m \u001b[0mgraph\u001b[0m \u001b[1;33m=\u001b[0m \u001b[0mpydotplus\u001b[0m\u001b[1;33m.\u001b[0m\u001b[0mgraphviz\u001b[0m\u001b[1;33m.\u001b[0m\u001b[0mgraph_from_dot_file\u001b[0m\u001b[1;33m(\u001b[0m\u001b[0mout_put_file\u001b[0m\u001b[1;33m)\u001b[0m\u001b[1;33m\u001b[0m\u001b[1;33m\u001b[0m\u001b[0m\n\u001b[1;32m---> 12\u001b[1;33m \u001b[0mgraph\u001b[0m\u001b[1;33m.\u001b[0m\u001b[0mwrite_png\u001b[0m\u001b[1;33m(\u001b[0m\u001b[1;34m'AbTestDecisionTree.png'\u001b[0m\u001b[1;33m)\u001b[0m\u001b[1;33m\u001b[0m\u001b[1;33m\u001b[0m\u001b[0m\n\u001b[0m\u001b[0;32m     13\u001b[0m \u001b[1;33m\u001b[0m\u001b[0m\n\u001b[0;32m     14\u001b[0m \u001b[0mImage\u001b[0m\u001b[1;33m(\u001b[0m\u001b[0mgraph\u001b[0m\u001b[1;33m.\u001b[0m\u001b[0mcreate_png\u001b[0m\u001b[1;33m(\u001b[0m\u001b[1;33m)\u001b[0m\u001b[1;33m)\u001b[0m\u001b[1;33m\u001b[0m\u001b[1;33m\u001b[0m\u001b[0m\n",
      "\u001b[1;32m~\\anaconda3\\lib\\site-packages\\pydotplus\\graphviz.py\u001b[0m in \u001b[0;36m<lambda>\u001b[1;34m(path, f, prog)\u001b[0m\n\u001b[0;32m   1808\u001b[0m                 \u001b[1;32mlambda\u001b[0m \u001b[0mpath\u001b[0m\u001b[1;33m,\u001b[0m\u001b[1;33m\u001b[0m\u001b[1;33m\u001b[0m\u001b[0m\n\u001b[0;32m   1809\u001b[0m                 \u001b[0mf\u001b[0m\u001b[1;33m=\u001b[0m\u001b[0mfrmt\u001b[0m\u001b[1;33m,\u001b[0m\u001b[1;33m\u001b[0m\u001b[1;33m\u001b[0m\u001b[0m\n\u001b[1;32m-> 1810\u001b[1;33m                 \u001b[0mprog\u001b[0m\u001b[1;33m=\u001b[0m\u001b[0mself\u001b[0m\u001b[1;33m.\u001b[0m\u001b[0mprog\u001b[0m\u001b[1;33m:\u001b[0m \u001b[0mself\u001b[0m\u001b[1;33m.\u001b[0m\u001b[0mwrite\u001b[0m\u001b[1;33m(\u001b[0m\u001b[0mpath\u001b[0m\u001b[1;33m,\u001b[0m \u001b[0mformat\u001b[0m\u001b[1;33m=\u001b[0m\u001b[0mf\u001b[0m\u001b[1;33m,\u001b[0m \u001b[0mprog\u001b[0m\u001b[1;33m=\u001b[0m\u001b[0mprog\u001b[0m\u001b[1;33m)\u001b[0m\u001b[1;33m\u001b[0m\u001b[1;33m\u001b[0m\u001b[0m\n\u001b[0m\u001b[0;32m   1811\u001b[0m             )\n\u001b[0;32m   1812\u001b[0m \u001b[1;33m\u001b[0m\u001b[0m\n",
      "\u001b[1;32m~\\anaconda3\\lib\\site-packages\\pydotplus\\graphviz.py\u001b[0m in \u001b[0;36mwrite\u001b[1;34m(self, path, prog, format)\u001b[0m\n\u001b[0;32m   1916\u001b[0m \u001b[1;33m\u001b[0m\u001b[0m\n\u001b[0;32m   1917\u001b[0m             \u001b[1;32melse\u001b[0m\u001b[1;33m:\u001b[0m\u001b[1;33m\u001b[0m\u001b[1;33m\u001b[0m\u001b[0m\n\u001b[1;32m-> 1918\u001b[1;33m                 \u001b[0mfobj\u001b[0m\u001b[1;33m.\u001b[0m\u001b[0mwrite\u001b[0m\u001b[1;33m(\u001b[0m\u001b[0mself\u001b[0m\u001b[1;33m.\u001b[0m\u001b[0mcreate\u001b[0m\u001b[1;33m(\u001b[0m\u001b[0mprog\u001b[0m\u001b[1;33m,\u001b[0m \u001b[0mformat\u001b[0m\u001b[1;33m)\u001b[0m\u001b[1;33m)\u001b[0m\u001b[1;33m\u001b[0m\u001b[1;33m\u001b[0m\u001b[0m\n\u001b[0m\u001b[0;32m   1919\u001b[0m         \u001b[1;32mfinally\u001b[0m\u001b[1;33m:\u001b[0m\u001b[1;33m\u001b[0m\u001b[1;33m\u001b[0m\u001b[0m\n\u001b[0;32m   1920\u001b[0m             \u001b[1;32mif\u001b[0m \u001b[0mclose\u001b[0m\u001b[1;33m:\u001b[0m\u001b[1;33m\u001b[0m\u001b[1;33m\u001b[0m\u001b[0m\n",
      "\u001b[1;32m~\\anaconda3\\lib\\site-packages\\pydotplus\\graphviz.py\u001b[0m in \u001b[0;36mcreate\u001b[1;34m(self, prog, format)\u001b[0m\n\u001b[0;32m   1957\u001b[0m             \u001b[0mself\u001b[0m\u001b[1;33m.\u001b[0m\u001b[0mprogs\u001b[0m \u001b[1;33m=\u001b[0m \u001b[0mfind_graphviz\u001b[0m\u001b[1;33m(\u001b[0m\u001b[1;33m)\u001b[0m\u001b[1;33m\u001b[0m\u001b[1;33m\u001b[0m\u001b[0m\n\u001b[0;32m   1958\u001b[0m             \u001b[1;32mif\u001b[0m \u001b[0mself\u001b[0m\u001b[1;33m.\u001b[0m\u001b[0mprogs\u001b[0m \u001b[1;32mis\u001b[0m \u001b[1;32mNone\u001b[0m\u001b[1;33m:\u001b[0m\u001b[1;33m\u001b[0m\u001b[1;33m\u001b[0m\u001b[0m\n\u001b[1;32m-> 1959\u001b[1;33m                 raise InvocationException(\n\u001b[0m\u001b[0;32m   1960\u001b[0m                     'GraphViz\\'s executables not found')\n\u001b[0;32m   1961\u001b[0m \u001b[1;33m\u001b[0m\u001b[0m\n",
      "\u001b[1;31mInvocationException\u001b[0m: GraphViz's executables not found"
     ]
    }
   ],
   "source": [
    "dot_data = StringIO()\n",
    "\n",
    "leaves_parallel=False\n",
    "feature_cols = [\"experiment\", \"hour\", \"date\", 'device_make']\n",
    "out_put_file = \"AbTestDecisionTree.dot\"\n",
    "\n",
    "dot_data = export_graphviz(clf, out_file=out_put_file,  \n",
    "                filled=True, rounded=True,\n",
    "                special_characters=True, feature_names = feature_cols,class_names=['1','0'])\n",
    "\n",
    "graph = pydotplus.graphviz.graph_from_dot_file(out_put_file)\n",
    "graph.write_png('AbTestDecisionTree.png')\n",
    "\n",
    "Image(graph.create_png())"
   ]
  },
  {
   "cell_type": "markdown",
   "id": "c1343a88",
   "metadata": {},
   "source": [
    "## Logistic Regression "
   ]
  },
  {
   "cell_type": "code",
   "execution_count": 28,
   "id": "2a7fb997",
   "metadata": {},
   "outputs": [],
   "source": [
    "class LogesticRegressionModel:\n",
    "    \n",
    "    def __init__(self, X_train, X_test, y_train, y_test):\n",
    "        \n",
    "        self.X_train = X_train\n",
    "        self.X_test = X_test\n",
    "        self.y_train = y_train\n",
    "        self.y_test = y_test\n",
    "        \n",
    "        self.clf = LogisticRegression()\n",
    "        \n",
    "    def train(self, folds=1):\n",
    "        \n",
    "        kf = KFold(n_splits = folds)\n",
    "        \n",
    "        iterator = kf.split(self.X_train)\n",
    "        \n",
    "        for i in range(folds):\n",
    "            train_index, valid_index = next(iterator)\n",
    "            \n",
    "            X_train, y_train = self.X_train.iloc[train_index], self.y_train.iloc[train_index]\n",
    "            X_valid, y_valid = self.X_train.iloc[valid_index], self.y_train.iloc[valid_index]\n",
    "                        \n",
    "            self.clf = self.clf.fit(X_train, y_train)\n",
    "            \n",
    "            vali_pred = self.clf.predict(X_valid)\n",
    "            \n",
    "            accuracy = self.calculate_score(y_valid\n",
    "                                              , vali_pred)\n",
    "            self.__printAccuracy(accuracy, i, label=\"Validation\")\n",
    "\n",
    "            \n",
    "        return self.clf, accuracy\n",
    "    \n",
    "    def test(self, x_test=X_test, y_test=y_test):\n",
    "        y_pred = self.clf.predict(x_test)\n",
    "        \n",
    "        accuracy = self.calculate_score(y_test, y_pred)\n",
    "        self.__printAccuracy(accuracy, label=\"Test\")\n",
    "        report = self.report(y_pred, y_test)\n",
    "        matrix = self.confusion_matrix(y_pred, y_test)\n",
    "        \n",
    "        return accuracy, report, matrix \n",
    "    def __printAccuracy(self, acc, step=1, label=\"\"):\n",
    "        print(f\"step {step}:{label} Accuracy of DecisionTreesModel is: {acc:.3f}\")\n",
    "    \n",
    "    def calculate_score(self, pred, actual):\n",
    "        return metrics.accuracy_score(actual, pred)\n",
    "    \n",
    "    def report(self, pred, actual):\n",
    "        print(\"Test Metrics\")\n",
    "        print(\"================\")\n",
    "        print(metrics.classification_report(pred, actual))\n",
    "        return metrics.classification_report(pred, actual)\n",
    "    \n",
    "    def confusion_matrix(self, pred, actual):\n",
    "        ax=sns.heatmap(pd.DataFrame(metrics.confusion_matrix(pred, actual)))\n",
    "        plt.title('Confusion matrix')\n",
    "        plt.ylabel('Actual')\n",
    "        plt.xlabel('Predicted')\n",
    "        return metrics.confusion_matrix(pred, actual)\n",
    "    \n",
    "    def get_p_values(self):\n",
    "        \"\"\" \n",
    "        Calcualting p_values for logestic regression.\n",
    "        code refered from the following link\n",
    "        https://gist.github.com/rspeare/77061e6e317896be29c6de9a85db301d\n",
    "        \n",
    "        \"\"\"\n",
    "        denom = (2.0*(1.0+np.cosh(self.clf.decision_function(X))))\n",
    "        denom = np.tile(denom,(X.shape[1],1)).T\n",
    "        F_ij = np.dot((X/denom).T,X) ## Fisher Information Matrix\n",
    "        Cramer_Rao = np.linalg.inv(F_ij) ## Inverse Information Matrix\n",
    "        sigma_estimates = np.sqrt(np.diagonal(Cramer_Rao))\n",
    "        z_scores = self.clf.coef_[0]/sigma_estimates # z-score \n",
    "        p_values = [stat.norm.sf(abs(x)) for x in z_scores] ### two tailed test for p-values\n",
    "        \n",
    "        p_df = pd.DataFrame()\n",
    "        p_df['features'] = self.X_train.columns.to_list()\n",
    "        p_df['p_values'] = p_values\n",
    "        \n",
    "        return p_df\n",
    "    \n",
    "    def plot_pvalues(self, p_df):\n",
    "        \n",
    "        fig, ax = plt.subplots(figsize=(12,7))\n",
    "\n",
    "        ax.plot([0.05,0.05], [0.05,5])\n",
    "        sns.scatterplot(data=p_df, y='features', x='p_values', color=\"green\")\n",
    "        plt.title(\"P values of features\", size=20)\n",
    "\n",
    "        plt.xticks(np.arange(0,max(p_values['p_values']) + 0.05, 0.05))\n",
    "\n",
    "        plt.xticks(fontsize=12)\n",
    "        plt.yticks(fontsize=12)\n",
    "\n",
    "        plt.show()"
   ]
  },
  {
   "cell_type": "code",
   "execution_count": 29,
   "id": "64d71d6e",
   "metadata": {},
   "outputs": [
    {
     "name": "stdout",
     "output_type": "stream",
     "text": [
      "step 0:Validation Accuracy of DecisionTreesModel is: 0.513\n",
      "step 1:Validation Accuracy of DecisionTreesModel is: 0.491\n",
      "step 2:Validation Accuracy of DecisionTreesModel is: 0.562\n",
      "step 3:Validation Accuracy of DecisionTreesModel is: 0.520\n",
      "step 4:Validation Accuracy of DecisionTreesModel is: 0.570\n"
     ]
    }
   ],
   "source": [
    "\n",
    "logesticRegressionModel = LogesticRegressionModel(X_train, X_test,  y_train, y_test)\n",
    "\n",
    "clf2, _ = logesticRegressionModel.train(5)"
   ]
  },
  {
   "cell_type": "code",
   "execution_count": 30,
   "id": "8bd1e5c0",
   "metadata": {},
   "outputs": [
    {
     "name": "stdout",
     "output_type": "stream",
     "text": [
      "step 1:Test Accuracy of DecisionTreesModel is: 0.552\n",
      "Test Metrics\n",
      "================\n",
      "              precision    recall  f1-score   support\n",
      "\n",
      "           0       0.91      0.54      0.68       109\n",
      "           1       0.17      0.62      0.26        16\n",
      "\n",
      "    accuracy                           0.55       125\n",
      "   macro avg       0.54      0.58      0.47       125\n",
      "weighted avg       0.81      0.55      0.63       125\n",
      "\n"
     ]
    },
    {
     "data": {
      "image/png": "[encoded data removed]",
      "text/plain": [
       "<Figure size 432x288 with 2 Axes>"
      ]
     },
     "metadata": {
      "needs_background": "light"
     },
     "output_type": "display_data"
    }
   ],
   "source": [
    "test_acc = logesticRegressionModel.test()"
   ]
  },
  {
   "cell_type": "code",
   "execution_count": 31,
   "id": "6c8bf810",
   "metadata": {},
   "outputs": [
    {
     "ename": "NameError",
     "evalue": "name 'p_values' is not defined",
     "output_type": "error",
     "traceback": [
      "\u001b[1;31m---------------------------------------------------------------------------\u001b[0m",
      "\u001b[1;31mNameError\u001b[0m                                 Traceback (most recent call last)",
      "\u001b[1;32m<ipython-input-31-4a74c6da7c0f>\u001b[0m in \u001b[0;36m<module>\u001b[1;34m\u001b[0m\n\u001b[0;32m      1\u001b[0m \u001b[0mp_values_df\u001b[0m \u001b[1;33m=\u001b[0m \u001b[0mlogesticRegressionModel\u001b[0m\u001b[1;33m.\u001b[0m\u001b[0mget_p_values\u001b[0m\u001b[1;33m(\u001b[0m\u001b[1;33m)\u001b[0m\u001b[1;33m\u001b[0m\u001b[1;33m\u001b[0m\u001b[0m\n\u001b[1;32m----> 2\u001b[1;33m \u001b[0mlogesticRegressionModel\u001b[0m\u001b[1;33m.\u001b[0m\u001b[0mplot_pvalues\u001b[0m\u001b[1;33m(\u001b[0m\u001b[0mp_values_df\u001b[0m\u001b[1;33m)\u001b[0m\u001b[1;33m\u001b[0m\u001b[1;33m\u001b[0m\u001b[0m\n\u001b[0m",
      "\u001b[1;32m<ipython-input-28-afc379c400c4>\u001b[0m in \u001b[0;36mplot_pvalues\u001b[1;34m(self, p_df)\u001b[0m\n\u001b[0;32m     90\u001b[0m         \u001b[0mplt\u001b[0m\u001b[1;33m.\u001b[0m\u001b[0mtitle\u001b[0m\u001b[1;33m(\u001b[0m\u001b[1;34m\"P values of features\"\u001b[0m\u001b[1;33m,\u001b[0m \u001b[0msize\u001b[0m\u001b[1;33m=\u001b[0m\u001b[1;36m20\u001b[0m\u001b[1;33m)\u001b[0m\u001b[1;33m\u001b[0m\u001b[1;33m\u001b[0m\u001b[0m\n\u001b[0;32m     91\u001b[0m \u001b[1;33m\u001b[0m\u001b[0m\n\u001b[1;32m---> 92\u001b[1;33m         \u001b[0mplt\u001b[0m\u001b[1;33m.\u001b[0m\u001b[0mxticks\u001b[0m\u001b[1;33m(\u001b[0m\u001b[0mnp\u001b[0m\u001b[1;33m.\u001b[0m\u001b[0marange\u001b[0m\u001b[1;33m(\u001b[0m\u001b[1;36m0\u001b[0m\u001b[1;33m,\u001b[0m\u001b[0mmax\u001b[0m\u001b[1;33m(\u001b[0m\u001b[0mp_values\u001b[0m\u001b[1;33m[\u001b[0m\u001b[1;34m'p_values'\u001b[0m\u001b[1;33m]\u001b[0m\u001b[1;33m)\u001b[0m \u001b[1;33m+\u001b[0m \u001b[1;36m0.05\u001b[0m\u001b[1;33m,\u001b[0m \u001b[1;36m0.05\u001b[0m\u001b[1;33m)\u001b[0m\u001b[1;33m)\u001b[0m\u001b[1;33m\u001b[0m\u001b[1;33m\u001b[0m\u001b[0m\n\u001b[0m\u001b[0;32m     93\u001b[0m \u001b[1;33m\u001b[0m\u001b[0m\n\u001b[0;32m     94\u001b[0m         \u001b[0mplt\u001b[0m\u001b[1;33m.\u001b[0m\u001b[0mxticks\u001b[0m\u001b[1;33m(\u001b[0m\u001b[0mfontsize\u001b[0m\u001b[1;33m=\u001b[0m\u001b[1;36m12\u001b[0m\u001b[1;33m)\u001b[0m\u001b[1;33m\u001b[0m\u001b[1;33m\u001b[0m\u001b[0m\n",
      "\u001b[1;31mNameError\u001b[0m: name 'p_values' is not defined"
     ]
    },
    {
     "data": {
      "image/png": "[encoded data removed]",
      "text/plain": [
       "<Figure size 864x504 with 1 Axes>"
      ]
     },
     "metadata": {
      "needs_background": "light"
     },
     "output_type": "display_data"
    }
   ],
   "source": [
    "\n",
    "p_values_df = logesticRegressionModel.get_p_values()\n",
    "logesticRegressionModel.plot_pvalues(p_values_df)"
   ]
  },
  {
   "cell_type": "code",
   "execution_count": null,
   "id": "01c166bb",
   "metadata": {},
   "outputs": [],
   "source": []
  }
 ],
 "metadata": {
  "kernelspec": {
   "display_name": "Python 3",
   "language": "python",
   "name": "python3"
  },
  "language_info": {
   "codemirror_mode": {
    "name": "ipython",
    "version": 3
   },
   "file_extension": ".py",
   "mimetype": "text/x-python",
   "name": "python",
   "nbconvert_exporter": "python",
   "pygments_lexer": "ipython3",
   "version": "3.8.8"
  }
 },
 "nbformat": 4,
 "nbformat_minor": 5
}
